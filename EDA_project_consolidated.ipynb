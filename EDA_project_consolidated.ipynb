{
 "cells": [
  {
   "cell_type": "code",
   "execution_count": null,
   "id": "8feac8e8",
   "metadata": {},
   "outputs": [],
   "source": [
    "import pandas as pd\n",
    "import numpy as np\n",
    "import matplotlib.pyplot as plt\n",
    "import seaborn as sns             \n",
    "import datetime\n",
    "pd.set_option('display.max_rows', 500)\n",
    "%matplotlib inline"
   ]
  },
  {
   "cell_type": "code",
   "execution_count": null,
   "id": "37fb203f",
   "metadata": {},
   "outputs": [],
   "source": [
    "# Source: http://web.mta.info/developers/turnstile.html\n",
    "def get_data(week_nums):\n",
    "    dfs = []\n",
    "    for week_num in week_nums:\n",
    "        file=\"~/mta_turnstile_data/turnstile_\"+str(week_num)+\".txt\"\n",
    "        dfs.append(pd.read_csv(file))\n",
    "    return pd.concat(dfs)\n",
    "\n",
    "week_nums_18 = [180519,180526,180602,180609,180616,180623,180630,180707,180714,180721,180728,180804]\n",
    "week_nums_19 = [190518,190525,190601,190608,190615,190622,190629,190706,190713,190720,190727,190803]\n",
    "week_nums_21 = [210515,210522,210529,210605,210612,210619,210626,210703,210710,210717,210724,210731]\n",
    "df18 = get_data(week_nums_18)\n",
    "df19 = get_data(week_nums_19)\n",
    "df21 = get_data(week_nums_21)"
   ]
  },
  {
   "cell_type": "code",
   "execution_count": null,
   "id": "ddfe8525",
   "metadata": {},
   "outputs": [],
   "source": []
  },
  {
   "cell_type": "code",
   "execution_count": null,
   "id": "550c0fc0",
   "metadata": {},
   "outputs": [],
   "source": [
    "# Data cleaning\n",
    "def clean_data(df):\n",
    "    df.columns = df.columns.str.replace(' ', '') #removed spaces rename column\n",
    "    station_mask = (\n",
    "                (df[\"STATION\"] == \"ATLANTIC AV\") |\n",
    "                (df[\"STATION\"] == \"FLATBUSH AV-B.C\")|\n",
    "                (df[\"STATION\"] == \"ATL AV-BARCLAY\")|\n",
    "                (df[\"STATION\"] == \"25 AV\")|\n",
    "                (df[\"STATION\"] == \"BERGEN ST\")|\n",
    "                (df[\"STATION\"] == \"FULTON ST\")|\n",
    "                (df[\"STATION\"] == \"LAFAYETTE AV\")\n",
    "               )\n",
    "    ss=df[station_mask]\n",
    "    ss=ss.drop(columns=['LINENAME','DIVISION','DESC']) #droped unwated columns\n",
    "    ss[\"TURNSTILE\"]=ss[ \"C/A\"]+ss[\"UNIT\"]+ss[\"SCP\"]+ss[\"STATION\"]\n",
    "    \n",
    "    return(ss)"
   ]
  },
  {
   "cell_type": "code",
   "execution_count": null,
   "id": "d85d193e",
   "metadata": {},
   "outputs": [],
   "source": [
    "df18=clean_data(df18)"
   ]
  },
  {
   "cell_type": "code",
   "execution_count": null,
   "id": "37101627",
   "metadata": {},
   "outputs": [],
   "source": [
    "df19=clean_data(df19)"
   ]
  },
  {
   "cell_type": "code",
   "execution_count": null,
   "id": "6960a9b5",
   "metadata": {},
   "outputs": [],
   "source": [
    "df21=clean_data(df21)"
   ]
  },
  {
   "cell_type": "code",
   "execution_count": null,
   "id": "e8d04864",
   "metadata": {},
   "outputs": [],
   "source": [
    "def get_daily_counts(row, max_counter):\n",
    "    counter = row[\"ENTRIES\"] - row[\"PREV_ENTRIES\"]\n",
    "    if counter < 0:\n",
    "        counter = -counter\n",
    "    if counter > max_counter:\n",
    "        print(row[\"ENTRIES\"], row[\"PREV_ENTRIES\"])\n",
    "        return 0\n",
    "    if counter > max_counter:\n",
    "        # Check it again to make sure we're not still giving a counter that's too big\n",
    "        return 0\n",
    "    return counter\n",
    "\n",
    "# If counter is > 1Million, then the counter might have been reset.  \n",
    "# Just set it to zero as different counters have different cycle limits"
   ]
  },
  {
   "cell_type": "code",
   "execution_count": null,
   "id": "76a84723",
   "metadata": {},
   "outputs": [],
   "source": [
    "def calculate_daily_entries(df):\n",
    "    ss = (df.groupby([\"TURNSTILE\",\"DATE\",\"STATION\"],as_index=False).ENTRIES.first())\n",
    "    ss[[\"PREV_DATE\", \"PREV_ENTRIES\"]] = (ss.groupby([\"TURNSTILE\"])[\"DATE\", \"ENTRIES\"].apply(lambda grp: grp.shift(1)))\n",
    "    # Drop the rows for the earliest date in the df\n",
    "    ss.dropna(subset=[\"PREV_DATE\"], axis=0, inplace=True)\n",
    "    ss[\"DAILY_ENTRIES\"]= ss.apply(get_daily_counts, axis=1, max_counter=100000)\n",
    "    ss[\"DATE_TIME\"]=pd.to_datetime(ss[\"DATE\"])\n",
    "    ss[\"WEEK\"]=ss[\"DATE_TIME\"].dt.isocalendar().week\n",
    "    ss[\"DAY\"]=ss[\"DATE_TIME\"].dt.dayofweek\n",
    "    MASK=((ss[\"DAY\"] == 0) |\n",
    "      (ss[\"DAY\"] == 1) |\n",
    "      (ss[\"DAY\"] == 2) |\n",
    "      (ss[\"DAY\"] == 3) |\n",
    "      (ss[\"DAY\"] == 4) \n",
    "     )\n",
    "    ss=ss[MASK]\n",
    "    VOLUME_PER_STATION=ss.groupby([\"WEEK\",\"STATION\"])[\"DAILY_ENTRIES\"].sum().reset_index()\n",
    "    VOLUME_PER_WEEK=ss.groupby([\"WEEK\"])[\"DAILY_ENTRIES\"].sum().reset_index()\n",
    "    return(VOLUME_PER_STATION,VOLUME_PER_WEEK)"
   ]
  },
  {
   "cell_type": "code",
   "execution_count": null,
   "id": "ae7c51b5",
   "metadata": {},
   "outputs": [],
   "source": []
  },
  {
   "cell_type": "code",
   "execution_count": null,
   "id": "0518b21c",
   "metadata": {},
   "outputs": [],
   "source": [
    "VOLUME_PER_STATION19,VOLUME_PER_WEEK19=calculate_daily_entries(df19)\n"
   ]
  },
  {
   "cell_type": "code",
   "execution_count": null,
   "id": "ffa22c16",
   "metadata": {},
   "outputs": [],
   "source": [
    "VOLUME_PER_STATION21,VOLUME_PER_WEEK21=calculate_daily_entries(df21)"
   ]
  },
  {
   "cell_type": "code",
   "execution_count": null,
   "id": "d2e67d72",
   "metadata": {
    "scrolled": true
   },
   "outputs": [],
   "source": [
    "VOLUME_PER_WEEK21[\"YEAR\"]=\"2021\"\n",
    "VOLUME_PER_STATION21[\"YEAR\"]=\"2021\""
   ]
  },
  {
   "cell_type": "code",
   "execution_count": null,
   "id": "0c949353",
   "metadata": {},
   "outputs": [],
   "source": [
    "VOLUME_PER_WEEK19[\"YEAR\"]=\"2019\"\n",
    "VOLUME_PER_STATION19[\"YEAR\"]=\"2019\""
   ]
  },
  {
   "cell_type": "code",
   "execution_count": null,
   "id": "2ee73374",
   "metadata": {},
   "outputs": [],
   "source": [
    "VOLUME_PER_WEEK=pd.concat([VOLUME_PER_WEEK19,VOLUME_PER_WEEK21])"
   ]
  },
  {
   "cell_type": "code",
   "execution_count": null,
   "id": "0f73ceb9",
   "metadata": {},
   "outputs": [],
   "source": [
    "VOLUME_PER_STATION=pd.concat([VOLUME_PER_STATION19,VOLUME_PER_STATION21])"
   ]
  },
  {
   "cell_type": "code",
   "execution_count": null,
   "id": "15b5e1a4",
   "metadata": {},
   "outputs": [],
   "source": [
    "# You can configure the format of the images: ‘png’, ‘retina’, ‘jpeg’, ‘svg’, ‘pdf’.\n",
    "%config InlineBackend.figure_format = 'svg'\n",
    "# this statement allows the visuals to render within your Jupyter Notebook\n",
    "%matplotlib inline "
   ]
  },
  {
   "cell_type": "code",
   "execution_count": null,
   "id": "6bb08cef",
   "metadata": {},
   "outputs": [],
   "source": [
    "week_barplot=plt.figure()\n",
    "plt.figure(figsize=(16, 8))\n",
    "plt.title(\"Top 7 Stations in NYC by Mean Entries per Day\", fontsize=18)\n",
    "week_barplot=sns.barplot(x='WEEK',y='DAILY_ENTRIES',hue='YEAR',data=VOLUME_PER_WEEK)\n",
    "plt.show()"
   ]
  },
  {
   "cell_type": "code",
   "execution_count": null,
   "id": "653d87a5",
   "metadata": {},
   "outputs": [],
   "source": [
    "sns.catplot(x='WEEK',y='DAILY_ENTRIES',hue='STATION',kind=\"point\",data=VOLUME_PER_STATION19)"
   ]
  },
  {
   "cell_type": "code",
   "execution_count": null,
   "id": "10129d29",
   "metadata": {},
   "outputs": [],
   "source": []
  },
  {
   "cell_type": "code",
   "execution_count": null,
   "id": "077f9397",
   "metadata": {},
   "outputs": [],
   "source": []
  }
 ],
 "metadata": {
  "kernelspec": {
   "display_name": "Python [conda env:metis] *",
   "language": "python",
   "name": "conda-env-metis-py"
  },
  "language_info": {
   "codemirror_mode": {
    "name": "ipython",
    "version": 3
   },
   "file_extension": ".py",
   "mimetype": "text/x-python",
   "name": "python",
   "nbconvert_exporter": "python",
   "pygments_lexer": "ipython3",
   "version": "3.8.10"
  }
 },
 "nbformat": 4,
 "nbformat_minor": 5
}
