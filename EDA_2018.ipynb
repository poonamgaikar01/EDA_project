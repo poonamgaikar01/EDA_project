{
 "cells": [
  {
   "cell_type": "code",
   "execution_count": 1,
   "id": "b006576f",
   "metadata": {},
   "outputs": [],
   "source": [
    "import pandas as pd\n",
    "import numpy as np\n",
    "import matplotlib.pyplot as plt\n",
    "import seaborn as sns             \n",
    "import datetime\n",
    "pd.set_option('display.max_rows', 500)\n",
    "%matplotlib inline"
   ]
  },
  {
   "cell_type": "code",
   "execution_count": null,
   "id": "bd594473",
   "metadata": {},
   "outputs": [],
   "source": [
    "# Source: http://web.mta.info/developers/turnstile.html\n",
    "def get_data(week_nums):\n",
    "    dfs = []\n",
    "    for week_num in week_nums:\n",
    "        file=\"/Users/poonamgaikar/metis/turnstile_\"+str(week_num)+\".txt\"\n",
    "        dfs.append(pd.read_csv(file))\n",
    "    return pd.concat(dfs)\n",
    "        \n",
    "week_nums = [180512,190525,190601,190608,190615,190622,190629,190706,190713,190720,190727,190803]\n",
    "df = get_data(week_nums)"
   ]
  }
 ],
 "metadata": {
  "kernelspec": {
   "display_name": "Python [conda env:metis] *",
   "language": "python",
   "name": "conda-env-metis-py"
  },
  "language_info": {
   "codemirror_mode": {
    "name": "ipython",
    "version": 3
   },
   "file_extension": ".py",
   "mimetype": "text/x-python",
   "name": "python",
   "nbconvert_exporter": "python",
   "pygments_lexer": "ipython3",
   "version": "3.8.10"
  }
 },
 "nbformat": 4,
 "nbformat_minor": 5
}
